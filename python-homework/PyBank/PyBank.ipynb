{
 "cells": [
  {
   "cell_type": "code",
   "execution_count": 119,
   "id": "0512e532-62ad-439a-806b-6a430e3be8a7",
   "metadata": {},
   "outputs": [],
   "source": [
    "import pandas as pd\n",
    "from pathlib import Path"
   ]
  },
  {
   "cell_type": "code",
   "execution_count": 120,
   "id": "cc62ff54-e45e-407e-a82a-afc546e3e70c",
   "metadata": {},
   "outputs": [],
   "source": [
    "filePath = Path(\"budget_data.csv\")"
   ]
  },
  {
   "cell_type": "code",
   "execution_count": 121,
   "id": "987ae9c0-480f-418b-81d0-173b36cc937d",
   "metadata": {},
   "outputs": [],
   "source": [
    "pybank_df = pd.read_csv(filePath)"
   ]
  },
  {
   "cell_type": "code",
   "execution_count": 122,
   "id": "d212222e-687e-4483-a7aa-9e5b1cd62567",
   "metadata": {},
   "outputs": [
    {
     "data": {
      "text/html": [
       "<div>\n",
       "<style scoped>\n",
       "    .dataframe tbody tr th:only-of-type {\n",
       "        vertical-align: middle;\n",
       "    }\n",
       "\n",
       "    .dataframe tbody tr th {\n",
       "        vertical-align: top;\n",
       "    }\n",
       "\n",
       "    .dataframe thead th {\n",
       "        text-align: right;\n",
       "    }\n",
       "</style>\n",
       "<table border=\"1\" class=\"dataframe\">\n",
       "  <thead>\n",
       "    <tr style=\"text-align: right;\">\n",
       "      <th></th>\n",
       "      <th>Date</th>\n",
       "      <th>Profit/Losses</th>\n",
       "    </tr>\n",
       "  </thead>\n",
       "  <tbody>\n",
       "    <tr>\n",
       "      <th>0</th>\n",
       "      <td>Jan-2010</td>\n",
       "      <td>867884</td>\n",
       "    </tr>\n",
       "    <tr>\n",
       "      <th>1</th>\n",
       "      <td>Feb-2010</td>\n",
       "      <td>984655</td>\n",
       "    </tr>\n",
       "    <tr>\n",
       "      <th>2</th>\n",
       "      <td>Mar-2010</td>\n",
       "      <td>322013</td>\n",
       "    </tr>\n",
       "    <tr>\n",
       "      <th>3</th>\n",
       "      <td>Apr-2010</td>\n",
       "      <td>-69417</td>\n",
       "    </tr>\n",
       "    <tr>\n",
       "      <th>4</th>\n",
       "      <td>May-2010</td>\n",
       "      <td>310503</td>\n",
       "    </tr>\n",
       "  </tbody>\n",
       "</table>\n",
       "</div>"
      ],
      "text/plain": [
       "       Date  Profit/Losses\n",
       "0  Jan-2010         867884\n",
       "1  Feb-2010         984655\n",
       "2  Mar-2010         322013\n",
       "3  Apr-2010         -69417\n",
       "4  May-2010         310503"
      ]
     },
     "execution_count": 122,
     "metadata": {},
     "output_type": "execute_result"
    }
   ],
   "source": [
    "pybank_df.head()"
   ]
  },
  {
   "cell_type": "code",
   "execution_count": 123,
   "id": "e33d3cfd-abee-4537-99e4-9f00552e413a",
   "metadata": {},
   "outputs": [
    {
     "data": {
      "text/plain": [
       "Index(['Date', 'Profit/Losses'], dtype='object')"
      ]
     },
     "execution_count": 123,
     "metadata": {},
     "output_type": "execute_result"
    }
   ],
   "source": [
    "pybank_df.columns"
   ]
  },
  {
   "cell_type": "code",
   "execution_count": 124,
   "id": "4a82512f-74af-4935-8d32-ffd3fed6db79",
   "metadata": {
    "tags": []
   },
   "outputs": [],
   "source": [
    "#this is the total number of months in the dataset"
   ]
  },
  {
   "cell_type": "code",
   "execution_count": 125,
   "id": "af82bb1c-eb66-4ba1-9e21-650d57ab4705",
   "metadata": {},
   "outputs": [],
   "source": [
    "monthsInDs = (len(pybank_df))"
   ]
  },
  {
   "cell_type": "code",
   "execution_count": null,
   "id": "99bb467d-96fb-4905-890a-9e39993cf529",
   "metadata": {},
   "outputs": [],
   "source": []
  },
  {
   "cell_type": "code",
   "execution_count": null,
   "id": "dcc078c5-7ad3-4d37-b2e5-76df6e210ce6",
   "metadata": {},
   "outputs": [],
   "source": []
  },
  {
   "cell_type": "code",
   "execution_count": 225,
   "id": "05390c69-f804-4465-8f92-f12ef7d91e9c",
   "metadata": {},
   "outputs": [],
   "source": [
    "#total amount of profit and loss                    "
   ]
  },
  {
   "cell_type": "code",
   "execution_count": 226,
   "id": "134fc3c9-5dde-4331-b1a6-cc6d2fcaa61c",
   "metadata": {},
   "outputs": [
    {
     "name": "stdout",
     "output_type": "stream",
     "text": [
      "38382578\n"
     ]
    }
   ],
   "source": [
    "Profit_Losses = 'Profit/Losses'\n",
    "PAndL_sum = pybank_df['Profit/Losses'].sum()\n",
    "print(PAndL_sum)"
   ]
  },
  {
   "cell_type": "code",
   "execution_count": null,
   "id": "4b0155d9-fc21-42fd-ac9d-22d1fe81386d",
   "metadata": {},
   "outputs": [],
   "source": []
  },
  {
   "cell_type": "code",
   "execution_count": 130,
   "id": "099f83e9-fa47-4c33-bb1a-ed7e8631f7ed",
   "metadata": {},
   "outputs": [],
   "source": [
    "#The greatest increase in profits (date and amount) over the entire period."
   ]
  },
  {
   "cell_type": "code",
   "execution_count": 163,
   "id": "6f145ffa-6316-4895-8347-37a859298f69",
   "metadata": {},
   "outputs": [
    {
     "data": {
      "text/plain": [
       "Date             Sep-2016\n",
       "Profit/Losses     1170593\n",
       "dtype: object"
      ]
     },
     "execution_count": 163,
     "metadata": {},
     "output_type": "execute_result"
    }
   ],
   "source": [
    "pybank_df.max()"
   ]
  },
  {
   "cell_type": "code",
   "execution_count": 212,
   "id": "4c08dcc8-5d78-4c69-b544-f619998ac947",
   "metadata": {},
   "outputs": [
    {
     "name": "stdout",
     "output_type": "stream",
     "text": [
      "Date             Sep-2016\n",
      "Profit/Losses     1170593\n",
      "dtype: object\n"
     ]
    }
   ],
   "source": [
    "max_value = pybank_df.max(numeric_only=int)              #greatest profit is 1170593\n",
    "print(max_value)"
   ]
  },
  {
   "cell_type": "code",
   "execution_count": null,
   "id": "f54d23cf-b9ff-45fc-9bf9-ebbe94a64c72",
   "metadata": {},
   "outputs": [],
   "source": []
  },
  {
   "cell_type": "code",
   "execution_count": null,
   "id": "037adc58-1149-4db7-a7ef-6cdeba9f5395",
   "metadata": {},
   "outputs": [],
   "source": [
    "#The greatest decrease in losses (date and amount) over the entire period"
   ]
  },
  {
   "cell_type": "code",
   "execution_count": 214,
   "id": "b5d5449c-c2b3-4559-95e8-acc23ceb1018",
   "metadata": {},
   "outputs": [
    {
     "name": "stdout",
     "output_type": "stream",
     "text": [
      "Date             Apr-2010\n",
      "Profit/Losses    -1196225\n",
      "dtype: object\n"
     ]
    }
   ],
   "source": [
    "min_value = pybank_df.min(numeric_only=int)                    #greatest loss is -1196225\n",
    "print(min_value) "
   ]
  },
  {
   "cell_type": "code",
   "execution_count": 233,
   "id": "3950b7af-e670-44cd-8e95-2291027744ca",
   "metadata": {},
   "outputs": [],
   "source": [
    "#The average of the changes in Profit/Losses over the entire period."
   ]
  },
  {
   "cell_type": "code",
   "execution_count": 252,
   "id": "311a208e-8e17-4d0c-967b-20fde543124f",
   "metadata": {},
   "outputs": [
    {
     "name": "stderr",
     "output_type": "stream",
     "text": [
      "/var/folders/4w/myhsr6pn2vv2hkxph3y5dwt80000gn/T/ipykernel_60382/3463950643.py:1: FutureWarning: Dropping of nuisance columns in DataFrame reductions (with 'numeric_only=None') is deprecated; in a future version this will raise TypeError.  Select only valid columns before calling the reduction.\n",
      "  pybank_df.mean(skipna=True)\n"
     ]
    },
    {
     "data": {
      "text/plain": [
       "Profit/Losses    446309.046512\n",
       "dtype: float64"
      ]
     },
     "execution_count": 252,
     "metadata": {},
     "output_type": "execute_result"
    }
   ],
   "source": [
    "pybank_df.mean(skipna=True)"
   ]
  },
  {
   "cell_type": "code",
   "execution_count": 253,
   "id": "f61eb2ff-43ee-48c0-953e-e665b7d9a4a6",
   "metadata": {},
   "outputs": [
    {
     "name": "stdout",
     "output_type": "stream",
     "text": [
      "Financial Analysis\n",
      "---------------------\n",
      "total months: 86\n",
      "total profit/losses: 38382578\n",
      "average change in proft/losses:  446309.046512\n",
      "greatest profit: 1170593\n",
      "greatest loss: 1170593\n"
     ]
    }
   ],
   "source": [
    "print('Financial Analysis')\n",
    "print('---------------------')\n",
    "print(f'total months: {monthsInDs}')\n",
    "print(f'total profit/losses: {PAndL_sum}')\n",
    "print('average change in proft/losses:  446309.046512')\n",
    "print('greatest profit: 1170593')\n",
    "print('greatest loss: 1170593')"
   ]
  },
  {
   "cell_type": "code",
   "execution_count": null,
   "id": "4661c23d-8164-49ba-b203-92ad6d4894ad",
   "metadata": {},
   "outputs": [],
   "source": []
  },
  {
   "cell_type": "code",
   "execution_count": null,
   "id": "1a09d6a8-e293-44fb-9464-708cbc4e833b",
   "metadata": {},
   "outputs": [],
   "source": []
  }
 ],
 "metadata": {
  "kernelspec": {
   "display_name": "Python 3 (ipykernel)",
   "language": "python",
   "name": "python3"
  },
  "language_info": {
   "codemirror_mode": {
    "name": "ipython",
    "version": 3
   },
   "file_extension": ".py",
   "mimetype": "text/x-python",
   "name": "python",
   "nbconvert_exporter": "python",
   "pygments_lexer": "ipython3",
   "version": "3.8.8"
  }
 },
 "nbformat": 4,
 "nbformat_minor": 5
}
